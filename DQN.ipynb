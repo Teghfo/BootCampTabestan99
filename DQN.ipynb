{
  "nbformat": 4,
  "nbformat_minor": 0,
  "metadata": {
    "colab": {
      "name": "DQN.ipynb",
      "provenance": [],
      "collapsed_sections": [],
      "authorship_tag": "ABX9TyOw028x5CK9MY78BxAm8WIQ",
      "include_colab_link": true
    },
    "kernelspec": {
      "name": "python3",
      "display_name": "Python 3"
    },
    "language_info": {
      "name": "python"
    },
    "accelerator": "GPU"
  },
  "cells": [
    {
      "cell_type": "markdown",
      "metadata": {
        "id": "view-in-github",
        "colab_type": "text"
      },
      "source": [
        "<a href=\"https://colab.research.google.com/github/Teghfo/BootCampTabestan99/blob/master/DQN.ipynb\" target=\"_parent\"><img src=\"https://colab.research.google.com/assets/colab-badge.svg\" alt=\"Open In Colab\"/></a>"
      ]
    },
    {
      "cell_type": "code",
      "source": [
        "!pip install tensorflow==1.13.1"
      ],
      "metadata": {
        "id": "VmJxP_erLmlx",
        "colab": {
          "base_uri": "https://localhost:8080/"
        },
        "outputId": "b6a3d8cd-499b-44a2-975d-aacccc1da72a"
      },
      "execution_count": 1,
      "outputs": [
        {
          "output_type": "stream",
          "name": "stdout",
          "text": [
            "Collecting tensorflow==1.13.1\n",
            "  Downloading tensorflow-1.13.1-cp37-cp37m-manylinux1_x86_64.whl (92.6 MB)\n",
            "\u001b[K     |████████████████████████████████| 92.6 MB 1.5 MB/s \n",
            "\u001b[?25hRequirement already satisfied: grpcio>=1.8.6 in /usr/local/lib/python3.7/dist-packages (from tensorflow==1.13.1) (1.43.0)\n",
            "Requirement already satisfied: termcolor>=1.1.0 in /usr/local/lib/python3.7/dist-packages (from tensorflow==1.13.1) (1.1.0)\n",
            "Requirement already satisfied: wheel>=0.26 in /usr/local/lib/python3.7/dist-packages (from tensorflow==1.13.1) (0.37.1)\n",
            "Requirement already satisfied: protobuf>=3.6.1 in /usr/local/lib/python3.7/dist-packages (from tensorflow==1.13.1) (3.17.3)\n",
            "Collecting keras-applications>=1.0.6\n",
            "  Downloading Keras_Applications-1.0.8-py3-none-any.whl (50 kB)\n",
            "\u001b[K     |████████████████████████████████| 50 kB 6.6 MB/s \n",
            "\u001b[?25hRequirement already satisfied: numpy>=1.13.3 in /usr/local/lib/python3.7/dist-packages (from tensorflow==1.13.1) (1.21.5)\n",
            "Requirement already satisfied: six>=1.10.0 in /usr/local/lib/python3.7/dist-packages (from tensorflow==1.13.1) (1.15.0)\n",
            "Collecting tensorflow-estimator<1.14.0rc0,>=1.13.0\n",
            "  Downloading tensorflow_estimator-1.13.0-py2.py3-none-any.whl (367 kB)\n",
            "\u001b[K     |████████████████████████████████| 367 kB 50.1 MB/s \n",
            "\u001b[?25hRequirement already satisfied: astor>=0.6.0 in /usr/local/lib/python3.7/dist-packages (from tensorflow==1.13.1) (0.8.1)\n",
            "Requirement already satisfied: keras-preprocessing>=1.0.5 in /usr/local/lib/python3.7/dist-packages (from tensorflow==1.13.1) (1.1.2)\n",
            "Requirement already satisfied: absl-py>=0.1.6 in /usr/local/lib/python3.7/dist-packages (from tensorflow==1.13.1) (1.0.0)\n",
            "Requirement already satisfied: gast>=0.2.0 in /usr/local/lib/python3.7/dist-packages (from tensorflow==1.13.1) (0.5.3)\n",
            "Collecting tensorboard<1.14.0,>=1.13.0\n",
            "  Downloading tensorboard-1.13.1-py3-none-any.whl (3.2 MB)\n",
            "\u001b[K     |████████████████████████████████| 3.2 MB 39.5 MB/s \n",
            "\u001b[?25hRequirement already satisfied: h5py in /usr/local/lib/python3.7/dist-packages (from keras-applications>=1.0.6->tensorflow==1.13.1) (3.1.0)\n",
            "Requirement already satisfied: werkzeug>=0.11.15 in /usr/local/lib/python3.7/dist-packages (from tensorboard<1.14.0,>=1.13.0->tensorflow==1.13.1) (1.0.1)\n",
            "Requirement already satisfied: markdown>=2.6.8 in /usr/local/lib/python3.7/dist-packages (from tensorboard<1.14.0,>=1.13.0->tensorflow==1.13.1) (3.3.6)\n",
            "Requirement already satisfied: importlib-metadata>=4.4 in /usr/local/lib/python3.7/dist-packages (from markdown>=2.6.8->tensorboard<1.14.0,>=1.13.0->tensorflow==1.13.1) (4.11.0)\n",
            "Requirement already satisfied: zipp>=0.5 in /usr/local/lib/python3.7/dist-packages (from importlib-metadata>=4.4->markdown>=2.6.8->tensorboard<1.14.0,>=1.13.0->tensorflow==1.13.1) (3.7.0)\n",
            "Requirement already satisfied: typing-extensions>=3.6.4 in /usr/local/lib/python3.7/dist-packages (from importlib-metadata>=4.4->markdown>=2.6.8->tensorboard<1.14.0,>=1.13.0->tensorflow==1.13.1) (3.10.0.2)\n",
            "Collecting mock>=2.0.0\n",
            "  Downloading mock-4.0.3-py3-none-any.whl (28 kB)\n",
            "Requirement already satisfied: cached-property in /usr/local/lib/python3.7/dist-packages (from h5py->keras-applications>=1.0.6->tensorflow==1.13.1) (1.5.2)\n",
            "Installing collected packages: mock, tensorflow-estimator, tensorboard, keras-applications, tensorflow\n",
            "  Attempting uninstall: tensorflow-estimator\n",
            "    Found existing installation: tensorflow-estimator 2.8.0\n",
            "    Uninstalling tensorflow-estimator-2.8.0:\n",
            "      Successfully uninstalled tensorflow-estimator-2.8.0\n",
            "  Attempting uninstall: tensorboard\n",
            "    Found existing installation: tensorboard 2.8.0\n",
            "    Uninstalling tensorboard-2.8.0:\n",
            "      Successfully uninstalled tensorboard-2.8.0\n",
            "  Attempting uninstall: tensorflow\n",
            "    Found existing installation: tensorflow 2.8.0\n",
            "    Uninstalling tensorflow-2.8.0:\n",
            "      Successfully uninstalled tensorflow-2.8.0\n",
            "\u001b[31mERROR: pip's dependency resolver does not currently take into account all the packages that are installed. This behaviour is the source of the following dependency conflicts.\n",
            "kapre 0.3.7 requires tensorflow>=2.0.0, but you have tensorflow 1.13.1 which is incompatible.\u001b[0m\n",
            "Successfully installed keras-applications-1.0.8 mock-4.0.3 tensorboard-1.13.1 tensorflow-1.13.1 tensorflow-estimator-1.13.0\n"
          ]
        }
      ]
    },
    {
      "cell_type": "code",
      "execution_count": 2,
      "metadata": {
        "colab": {
          "base_uri": "https://localhost:8080/"
        },
        "id": "2Zto5skTJuSW",
        "outputId": "6252e5e0-8980-4115-b3d3-f230e34c14e9"
      },
      "outputs": [
        {
          "output_type": "stream",
          "name": "stderr",
          "text": [
            "/usr/local/lib/python3.7/dist-packages/tensorflow/python/framework/dtypes.py:526: FutureWarning: Passing (type, 1) or '1type' as a synonym of type is deprecated; in a future version of numpy, it will be understood as (type, (1,)) / '(1,)type'.\n",
            "  _np_qint8 = np.dtype([(\"qint8\", np.int8, 1)])\n",
            "/usr/local/lib/python3.7/dist-packages/tensorflow/python/framework/dtypes.py:527: FutureWarning: Passing (type, 1) or '1type' as a synonym of type is deprecated; in a future version of numpy, it will be understood as (type, (1,)) / '(1,)type'.\n",
            "  _np_quint8 = np.dtype([(\"quint8\", np.uint8, 1)])\n",
            "/usr/local/lib/python3.7/dist-packages/tensorflow/python/framework/dtypes.py:528: FutureWarning: Passing (type, 1) or '1type' as a synonym of type is deprecated; in a future version of numpy, it will be understood as (type, (1,)) / '(1,)type'.\n",
            "  _np_qint16 = np.dtype([(\"qint16\", np.int16, 1)])\n",
            "/usr/local/lib/python3.7/dist-packages/tensorflow/python/framework/dtypes.py:529: FutureWarning: Passing (type, 1) or '1type' as a synonym of type is deprecated; in a future version of numpy, it will be understood as (type, (1,)) / '(1,)type'.\n",
            "  _np_quint16 = np.dtype([(\"quint16\", np.uint16, 1)])\n",
            "/usr/local/lib/python3.7/dist-packages/tensorflow/python/framework/dtypes.py:530: FutureWarning: Passing (type, 1) or '1type' as a synonym of type is deprecated; in a future version of numpy, it will be understood as (type, (1,)) / '(1,)type'.\n",
            "  _np_qint32 = np.dtype([(\"qint32\", np.int32, 1)])\n",
            "/usr/local/lib/python3.7/dist-packages/tensorflow/python/framework/dtypes.py:535: FutureWarning: Passing (type, 1) or '1type' as a synonym of type is deprecated; in a future version of numpy, it will be understood as (type, (1,)) / '(1,)type'.\n",
            "  np_resource = np.dtype([(\"resource\", np.ubyte, 1)])\n"
          ]
        },
        {
          "output_type": "stream",
          "name": "stdout",
          "text": [
            "gym version:  0.17.3\n",
            "tf version:  1.13.1\n"
          ]
        }
      ],
      "source": [
        "import numpy as np\n",
        "import gym\n",
        "import tensorflow as tf\n",
        "print(\"gym version: \", gym.__version__)\n",
        "print(\"tf version: \", tf.__version__)"
      ]
    },
    {
      "cell_type": "code",
      "source": [
        "\n",
        "env_name = \"CartPole-v1\"\n",
        "env = gym.make(env_name)\n",
        "print(\"dimension of state space: \", env.observation_space.shape)\n",
        "print(\"dimension of action space: \", env.action_space.n)\n"
      ],
      "metadata": {
        "colab": {
          "base_uri": "https://localhost:8080/"
        },
        "id": "OwfPdVSMKAW5",
        "outputId": "7a7de03b-c9be-4224-ab6a-52753fae9c98"
      },
      "execution_count": 3,
      "outputs": [
        {
          "output_type": "stream",
          "name": "stdout",
          "text": [
            "dimension of state space:  (4,)\n",
            "dimension of action space:  2\n"
          ]
        }
      ]
    },
    {
      "cell_type": "code",
      "source": [
        "from tensorflow.python.ops.math_ops import reduce_sum\n",
        "class DQN:\n",
        "  def __init__(self, state_dim, action_numbers):\n",
        "    print([*state_dim])\n",
        "    self.input_state = tf.placeholder(tf.float32, shape=[None, *state_dim])\n",
        "    self.input_action = tf.placeholder(tf.int32, shape=[None])\n",
        "    self.target = tf.placeholder(tf.float32, shape=[None])  # r + gamma * max(Q)\n",
        "    self.one_hot_action = tf.one_hot(self.input_action, depth=action_numbers)\n",
        "\n",
        "    self.hidden_layer = tf.layers.Dense(128, activation=tf.nn.relu)(self.input_state)\n",
        "    self.state_q = tf.layers.Dense(action_numbers, activation=None)(self.hidden_layer)\n",
        "    self.loss = tf.reduce_mean(tf.square(tf.reduce_sum(tf.multiply(self.one_hot_action, self.state_q), axis=1) - self.target))\n",
        "    self.optimizer = tf.train.AdamOptimizer(learning_rate=0.001).minimize(self.loss)\n",
        "\n",
        "\n",
        "  def update_model(self, sess: tf.Session, state, action, target):\n",
        "    sess.run(self.optimizer, feed_dict={\n",
        "        self.input_state: state, self.input_action: action, self.target: target\n",
        "    })\n",
        "\n",
        "  def get_q_state(self, sess: tf.Session, state):\n",
        "    return sess.run(self.state_q, feed_dict={\n",
        "        self.input_state: state\n",
        "    })\n",
        "\n"
      ],
      "metadata": {
        "id": "n3ySuJ8OMMCp"
      },
      "execution_count": 4,
      "outputs": []
    },
    {
      "cell_type": "code",
      "source": [
        "from collections import deque\n",
        "import random\n",
        "\n",
        "# state, next_state, action, reward, done\n",
        "\n",
        "\n",
        "class ExprienceReplay:\n",
        "  def __init__(self, buffer_max_len):\n",
        "    self.buffer = deque(maxlen = buffer_max_len)\n",
        "\n",
        "  def add(self, exprience):\n",
        "    self.buffer.append(exprience)\n",
        "\n",
        "  def sample(self, batch_size):\n",
        "    batch_size = min(len(self.buffer), batch_size)\n",
        "    sample = random.choices(self.buffer, k = batch_size)\n",
        "    return map(list, zip(*sample))\n",
        "\n",
        "\n"
      ],
      "metadata": {
        "id": "8yMjUkxaDRHo"
      },
      "execution_count": 10,
      "outputs": []
    },
    {
      "cell_type": "code",
      "source": [
        "class Agent:\n",
        "  def __init__(self, env: gym.Env):\n",
        "    self.state_dim = env.observation_space.shape\n",
        "    self.action_numbers = env.action_space.n\n",
        "    self.gamma = 0.97\n",
        "    self.exploration_rate = 1\n",
        "    self.buffer = ExprienceReplay(10000)\n",
        "\n",
        "    self.q_network = DQN(self.state_dim, self.action_numbers)\n",
        "    self.sess = tf.Session()\n",
        "    self.sess.run(tf.global_variables_initializer())\n",
        "\n",
        "\n",
        "  def get_action(self, state):\n",
        "    q_state = self.q_network.get_q_state(self.sess, [state])\n",
        "    action = np.argmax(q_state)\n",
        "    return action if self.exploration_rate < np.random.random() else np.random.randint(self.action_numbers)\n",
        "\n",
        "  def train(self, state, action, next_state, reward, done):\n",
        "    self.buffer.add((state, action, next_state, reward, done))\n",
        "    states, actions, next_states, rewards, dones = self.buffer.sample(20)\n",
        "    q_next_states = self.q_network.get_q_state(self.sess, next_states)\n",
        "\n",
        "    q_next_states[dones] = np.zeros([self.action_numbers])\n",
        "\n",
        "    targets = rewards + self.gamma * np.max(q_next_states, axis=1)\n",
        "    self.q_network.update_model(self.sess, states, actions, targets)\n",
        "    \n",
        "    if done:\n",
        "        self.exploration_rate = max(0.1, self.exploration_rate *0.99)\n",
        "  def __delete__(self):\n",
        "    self.sess.close()"
      ],
      "metadata": {
        "id": "4zum1-uQNCvm"
      },
      "execution_count": 25,
      "outputs": []
    },
    {
      "cell_type": "code",
      "source": [
        "from tensorflow.python.util.deprecation import rewrite_argument_docstring\n",
        "import matplotlib.pyplot as plt\n",
        "episod_numbwer = 200\n",
        "agent = Agent(env)\n",
        "total_rewards = []\n",
        "for i_round in range(episod_numbwer):\n",
        "  state = env.reset()\n",
        "  total_reward = 0\n",
        "  done = False\n",
        "  while not done:\n",
        "    action = agent.get_action(state)\n",
        "    next_state, reward, done, info = env.step(action)\n",
        "    agent.train(state, action, next_state, reward, done)\n",
        "    state = next_state\n",
        "    total_reward += reward\n",
        "  total_rewards.append(total_reward)\n",
        "\n",
        "\n",
        "plt.plot(total_rewards)\n",
        "\n"
      ],
      "metadata": {
        "colab": {
          "base_uri": "https://localhost:8080/",
          "height": 300
        },
        "id": "MrK0ye35NPhk",
        "outputId": "5d02a511-b9ad-4f48-d226-69683b72f0dd"
      },
      "execution_count": 26,
      "outputs": [
        {
          "output_type": "stream",
          "name": "stdout",
          "text": [
            "[4]\n"
          ]
        },
        {
          "output_type": "execute_result",
          "data": {
            "text/plain": [
              "[<matplotlib.lines.Line2D at 0x7f7e35ee1190>]"
            ]
          },
          "metadata": {},
          "execution_count": 26
        },
        {
          "output_type": "display_data",
          "data": {
            "image/png": "[encoded data removed]",
            "text/plain": [
              "<Figure size 432x288 with 1 Axes>"
            ]
          },
          "metadata": {
            "needs_background": "light"
          }
        }
      ]
    }
  ]
}